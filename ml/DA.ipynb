{
  "nbformat": 4,
  "nbformat_minor": 0,
  "metadata": {
    "colab": {
      "provenance": [],
      "collapsed_sections": [
        "LDL7ObUEOL81",
        "k7L15zLRXR6a"
      ]
    },
    "kernelspec": {
      "name": "python3",
      "display_name": "Python 3"
    },
    "language_info": {
      "name": "python"
    }
  },
  "cells": [
    {
      "cell_type": "code",
      "execution_count": 1,
      "metadata": {
        "colab": {
          "base_uri": "https://localhost:8080/"
        },
        "id": "LJK9CyiiGhsE",
        "outputId": "aebb7393-95e7-47c7-84e1-01ef79e8a5ef"
      },
      "outputs": [
        {
          "output_type": "stream",
          "name": "stdout",
          "text": [
            "Requirement already satisfied: PyMySQL in /usr/local/lib/python3.10/dist-packages (1.1.0)\n"
          ]
        }
      ],
      "source": [
        " !pip install PyMySQL"
      ]
    },
    {
      "cell_type": "code",
      "source": [
        "import pymysql\n",
        "blogdb = pymysql.connect(host='blogdb.cm2yxwfja9ii.ap-northeast-2.rds.amazonaws.com',\n",
        "                      user='admin',\n",
        "                      password='",
        "                      database='blogdb',\n",
        "                      charset='utf8',\n",
        "                      port=3306)\n",
        "\n",
        "cursor =blogdb.cursor(pymysql.cursors.DictCursor)\n",
        "\n",
        "# 데이터불러오기\n",
        "query = \"SELECT content FROM post_data where map=1 And ad_status = 'NON-AD' and res_id =1\"\n",
        "cursor.execute(query)\n",
        "results = cursor.fetchall()"
      ],
      "metadata": {
        "id": "UtRustHeGjT-"
      },
      "execution_count": 31,
      "outputs": []
    },
    {
      "cell_type": "code",
      "source": [
        "text1 = results[0]['content']\n",
        "text1"
      ],
      "metadata": {
        "colab": {
          "base_uri": "https://localhost:8080/",
          "height": 417
        },
        "id": "0Bq-vreZGjW_",
        "outputId": "6ef23d04-d065-4798-e8ee-bed4e330f1d7"
      },
      "execution_count": 9,
      "outputs": [
        {
          "output_type": "execute_result",
          "data": {
            "text/plain": [
              "'잠실맛집  잠실라멘  송리단길맛집  류센소  잠실맛집  잠실라멘  송리단길맛집  류센소   부산에서 라멘 맛집으로 웨이팅 할 만큼 유명한 류센소가 송리단길에도 오픈했다는 소식에 얼마나 맛있을지 궁금해 한걸음에 달려와봤다    송리단길에 이미 잠실 라멘 맛집으로 유명한 매장이 많아 웨이팅 없이 바로 입장 가능했다  잠실 라멘 맛집은 지하철 9호선 송파나루역 1번 출구에서 도보 6분이 걸리고 지하철 2 8호선 잠실역 10번 출구에서 도보 16분이다  올 때 편한 역을 이용하면 된다    송리단길 맛집 중 주차 가능한 매장은 없다고 보면 되는데 매장 앞에 주차도 2대 가능하다  부산에서 줄 서서 먹어야 될 만큼  라멘 성지 로 불리는 류센소가 송리단길에 오픈했다  배고픈 나머지 앉자마자 메뉴판을 봤다    보통 류센소 라멘을 많이들 먹어서 라멘은 금방 골랐는데 사이드 메뉴는 교자  토리 가라아게  문어 가라아게 중 뭐 먹어야 될지 한참동안 고민됐다    가격적인 면에서 토리 가라아게가 가성비가 뛰어나 보여 류센소 라멘과 가라아게로 주문  메뉴판을 보면 주문 안내사항이랑 먹는 방법이 설명되어 있어서 먹을 때 참고  보통 라멘집은 아담한 규모인데 송리단길 라멘 맛집은 넓은 규모에 쾌적한 공간으로 보다 편안하게 맛있는 식사를 할 수 있어 보였다  좌석은 일반 테이블이랑 바 테이블로 나누어져 있었고 편한 자리로 골라 앉으면 된다    우리는 일본 여행이라도 온 분위기를 내고 싶어서 고민없이 바 테이블에 앉았다  일본스러운 느낌을 내고 싶으면 바 테이블을 이길 수 없다  다행히 바 테이블 간격이 넓어서 불편하지 않았다  톤 다운된 우드로 제작한 바 테이블이 분위기를 차분함과 동시에 멋스러워 보이도록 만들었다  류센소 라멘은 기본적으로 국물이 깔끔하고 담백해 테이블에 준비된 다진 마늘과 후추를 취향에 따라 넣어 먹으면 색다른 국물을 맛볼 수 있다    개인적으로 다진 마늘을 넣었을 때 국물의 깊이가 달라져서 먹다가 꼭 넣어 먹는 걸 추천한다  테이블마다 갓 장아찌  생강 초절임  다진 마늘  식초  후추  시치미 가루가 준비되어 있다  바 테이블에 앉으면 조리하는 과정을 구경할 수 있어서 기다리는 시간이 지루할 틈 없다  직원분들 부담되지 않도록 몰래 몰래 훔쳐보기    토핑으로 차슈도 추가했는데 2천원에 차슈 2장이 나오는 걸 보고 가성비가 뛰어났다  배고파서  빨리 주세요       라고 속으로 수십번 외쳤다  잠실 라멘 맛집에서 주문한 메뉴는 류센소 라멘  10 000원   2 차슈 추가  2 000원  토리 가라아게  7 000원  류센소만의 비법으로 깊은 맛을 느낄 수 있다는 정통 후쿠오카 돈코츠 라멘이 대표 메뉴라고 해서 고민할 필요없이 2개를 주문했다    차슈  계란 반숙  파  목이버섯이 라멘 위에 토핑으로 푸짐하게 올려져 있는데 부족할 경우 토핑 추가 주문도 얼마든지 가능하다  장시간 돼지 사골을 우려내서 국물이 진하고 부드럽다    비주얼만 보면 기름이 둥둥 떠있어서 느끼할 줄 알았는데 걱정과 달리 전혀 느끼하지 않았고 간도 세지 않아서 국물을 부담없이 먹을 수 있었다  돼지 사골로만 육수를 우리면 맑고 뽀얀 국물이 되고 류센소처럼 돼지머리를 넣으면 뽀얀 곰탕같은 국물이 우려져 깊은 맛이 일품이다    술 한모금도 마시지 않았는데 해장되는 기분이 들 만큼 속이 풀리는 기분이 시원했다  토리 가라아게는 가격대비 가성비가 훌륭해 보였는데 라멘을 능가할 만큼 맛있기까지  가라아게는 일식에서 필수로 등장하는 메뉴나 다름없는데 지금까지 먹어본 가라아게들이랑 비교해 봤을 때 충분히 상위권을 유지할 수준이다  토리 가라아게는 한입에 먹을 수 있는 8피스와 소스로 간장과 타르타르 두종류가 준비되어 나왔는데 개성있은 소스처럼 보이지는 않았다    그렇지만 소스에 따라 가라아게의 매력이 달라져서 꼭 찍먹해줘야 되는 센스 필수  사진으로만 봐도 가라아게에서 바삭함이 느껴졌다  이 정도면 잠실 라멘 맛집보다 잠실 가라아게 맛집이 더 잘 어울리겠는데  방금 전에 갓 튀겨낸 뜨끈뜨끈한 가라아게는 사랑이다  디저트가 아닌 가라아게에 이 표현을 쓸 줄 몰랐는데  겉바속촉 이라는 말이 딱이다    가라아게를 딱 보고 기름지지 않아서 퍽퍽할 줄 알았는데 꽉 찬 닭고기에 육즙이 펑  터졌다  육즙과 함께 가성비가 흘러내리네 추가로 주문했던 라멘과 찰떡궁합을 자랑한 차슈는 두껍지 않은 적당한 두께 덕분에 질기지 않게 먹을 수 있었고 불향을 입혀서 맛이 진했다  류센소 라멘은 기본으로 꼬들면이 제공되기 때문에 퍼진면 식감을 원하시는 손님은 주문할 때 미리 말씀해주셔야 그에 맞게 조리해주시는데 난 꼬들면이 좋아서 요청할 필요 없었다    얇은 면이 국물이랑 조화롭게 어우러졌고 무엇보다 류센소 라멘은 잡내 없이 구수함이 일품이라서 잠실 맛집으로 인정해도 충분하다  보통 라멘을 다 먹고 나면 속이 느끼해서 느글느글하던데 송리단길 맛집은 뒷맛이 깔끔해서 다음에 재방문을 해도 괜찮겠다고 생각했을 정도  류센소 송리단길점   주소 서울 송파구 오금로16길 10 8 전화번호 0507 1380 6326 영업시간 매일 11 00 21 30 브레이크타임 15 00 17 00 주차 주차 불가'"
            ],
            "application/vnd.google.colaboratory.intrinsic+json": {
              "type": "string"
            }
          },
          "metadata": {},
          "execution_count": 9
        }
      ]
    },
    {
      "cell_type": "markdown",
      "source": [
        "## 메뉴 분석"
      ],
      "metadata": {
        "id": "LDL7ObUEOL81"
      }
    },
    {
      "cell_type": "code",
      "source": [
        "import pymysql\n",
        "blogdb = pymysql.connect(host='blogdb.cm2yxwfja9ii.ap-northeast-2.rds.amazonaws.com',\n",
        "                      user='admin',\n",
        "                      password='",
        "                      database='blogdb',\n",
        "                      charset='utf8',\n",
        "                      port=3306)\n",
        "\n",
        "cursor =blogdb.cursor(pymysql.cursors.DictCursor)\n",
        "\n",
        "# 데이터불러오기\n",
        "query = \"SELECT content,menu_count FROM post where map=1 And ad_status = 'NON-AD' and res_id = \"\n",
        "cursor.execute(query)\n",
        "results = cursor.fetchall()"
      ],
      "metadata": {
        "id": "kEcoM01GguOK"
      },
      "execution_count": null,
      "outputs": []
    },
    {
      "cell_type": "code",
      "source": [
        "import re\n",
        "\n",
        "menu_keywords = ['류센소', '류센소카라', '류센소카키','류센소아사리', '교자', '토리카라아게', '카키후라이', '문어카라아게', '생맥주', '하이볼','가라아게']\n",
        "\n",
        "menu_counts = {keyword: 0 for keyword in menu_keywords}  # 메뉴별 언급 횟수 초기화\n",
        "\n",
        "for result in results:\n",
        "    text = result['content']\n",
        "    menu_matches = re.findall('|'.join(menu_keywords), text)\n",
        "\n",
        "    for match in menu_matches:\n",
        "        menu_counts[match] += 1\n",
        "\n",
        "for menu, count in menu_counts.items():\n",
        "    print(f\"{menu}: {count}\")"
      ],
      "metadata": {
        "colab": {
          "base_uri": "https://localhost:8080/"
        },
        "id": "o_Kz-zk8JqZB",
        "outputId": "aa1d87cc-f1be-454b-ae8c-c2b5522945a1"
      },
      "execution_count": 28,
      "outputs": [
        {
          "output_type": "stream",
          "name": "stdout",
          "text": [
            "류센소: 423\n",
            "류센소카라: 0\n",
            "류센소카키: 0\n",
            "류센소아사리: 0\n",
            "교자: 53\n",
            "토리카라아게: 2\n",
            "카키후라이: 10\n",
            "문어카라아게: 0\n",
            "생맥주: 25\n",
            "하이볼: 64\n",
            "가라아게: 46\n"
          ]
        }
      ]
    },
    {
      "cell_type": "code",
      "source": [
        "for menu, count in menu_counts.items():\n",
        "    query = \"INSERT INTO menu_count (menu, count) VALUES (%s, %s)\"\n",
        "    values = (menu, count)\n",
        "    cursor.execute(query, values)\n",
        "\n",
        "blogdb.commit()\n",
        "cursor.close()"
      ],
      "metadata": {
        "id": "WV0bBZj5OKh5"
      },
      "execution_count": null,
      "outputs": []
    },
    {
      "cell_type": "markdown",
      "source": [
        "## 키워드분석"
      ],
      "metadata": {
        "id": "WDBNn170ON-H"
      }
    },
    {
      "cell_type": "code",
      "source": [
        "import pymysql\n",
        "blogdb = pymysql.connect(host='blogdb.cm2yxwfja9ii.ap-northeast-2.rds.amazonaws.com',\n",
        "                      user='admin',\n",
        "                      password='",
        "                      database='blogdb',\n",
        "                      charset='utf8',\n",
        "                      port=3306)\n",
        "cursor =blogdb.cursor(pymysql.cursors.DictCursor)\n",
        "\n",
        "\n",
        "# 데이터불러오기\n",
        "query1 = \"SELECT title,content FROM post_data where ad_status='NON-AD' and map=1 and res_id <11\"\n",
        "cursor.execute(query1)\n",
        "results1 = cursor.fetchall()"
      ],
      "metadata": {
        "id": "HkLsWl6xOKko"
      },
      "execution_count": 21,
      "outputs": []
    },
    {
      "cell_type": "code",
      "source": [
        "from sklearn.feature_extraction.text import TfidfVectorizer\n",
        "from sklearn.cluster import KMeans\n",
        "\n",
        "# 'title' 데이터 추출\n",
        "titles = [item['title'] for item in results1]\n",
        "\n",
        "# TF-IDF 벡터화\n",
        "vectorizer = TfidfVectorizer(max_features=1000)  # 원하는 단어 수로 조정\n",
        "title_vectors = vectorizer.fit_transform(titles)\n",
        "\n",
        "# K-means 클러스터링\n",
        "num_clusters = 1  # 클러스터 개수\n",
        "kmeans = KMeans(n_clusters=num_clusters)\n",
        "kmeans.fit(title_vectors)\n",
        "\n",
        "# 클러스터 내 데이터의 비중 계산\n",
        "cluster_weights = kmeans.transform(title_vectors)\n",
        "\n",
        "# 클러스터 중심 단어 및 비중 출력\n",
        "order_centroids = kmeans.cluster_centers_.argsort()[:, ::-1]\n",
        "terms = vectorizer.get_feature_names_out()\n",
        "\n",
        "# 클러스터 내 언급 횟수 계산\n",
        "order_labels = kmeans.labels_\n",
        "cluster_counts = {i: {} for i in range(num_clusters)}\n",
        "\n",
        "for i, label in enumerate(order_labels):\n",
        "    for keyword in terms:\n",
        "        if keyword in titles[i]:\n",
        "            cluster_counts[label][keyword] = cluster_counts[label].get(keyword, 0) + 1\n",
        "\n",
        "# 결과 출력\n",
        "for i in range(num_clusters):\n",
        "    print(f\"Cluster {i + 1}:\")\n",
        "    cluster_keywords = [terms[ind] for ind in order_centroids[i, :10]]\n",
        "    cluster_weight = cluster_weights[:, i]\n",
        "    cluster_count = cluster_counts[i]\n",
        "\n",
        "    for keyword, weight in zip(cluster_keywords, cluster_weight):\n",
        "        count = cluster_count.get(keyword, 0)\n",
        "        print(f\"{keyword} (언급 횟수: {count}, 비중: {weight:.3f})\")"
      ],
      "metadata": {
        "colab": {
          "base_uri": "https://localhost:8080/"
        },
        "id": "yW5Pi33lWjwa",
        "outputId": "5c4357f0-509b-41af-ee52-b6d9deed9230"
      },
      "execution_count": 35,
      "outputs": [
        {
          "output_type": "stream",
          "name": "stdout",
          "text": [
            "Cluster 1:\n",
            "송리단길 (언급 횟수: 80, 비중: 0.879)\n",
            "류센소 (언급 횟수: 48, 비중: 0.939)\n",
            "잠실 (언급 횟수: 62, 비중: 0.936)\n",
            "맛집 (언급 횟수: 58, 비중: 0.948)\n",
            "란슬롯 (언급 횟수: 50, 비중: 0.942)\n",
            "와인바 (언급 횟수: 38, 비중: 0.999)\n",
            "송리단 (언급 횟수: 106, 비중: 0.941)\n",
            "송리단길점 (언급 횟수: 25, 비중: 0.982)\n",
            "케이쿠키 (언급 횟수: 31, 비중: 0.883)\n",
            "라멘 (언급 횟수: 29, 비중: 0.951)\n"
          ]
        },
        {
          "output_type": "stream",
          "name": "stderr",
          "text": [
            "/usr/local/lib/python3.10/dist-packages/sklearn/cluster/_kmeans.py:870: FutureWarning: The default value of `n_init` will change from 10 to 'auto' in 1.4. Set the value of `n_init` explicitly to suppress the warning\n",
            "  warnings.warn(\n"
          ]
        }
      ]
    },
    {
      "cell_type": "code",
      "source": [],
      "metadata": {
        "id": "zgkZHsjrGjfU"
      },
      "execution_count": null,
      "outputs": []
    },
    {
      "cell_type": "markdown",
      "source": [
        "## 포스팅 날짜 기준 포스팅 수"
      ],
      "metadata": {
        "id": "k7L15zLRXR6a"
      }
    },
    {
      "cell_type": "code",
      "source": [
        "import pymysql\n",
        "blogdb = pymysql.connect(host='blogdb.cm2yxwfja9ii.ap-northeast-2.rds.amazonaws.com',\n",
        "                      user='admin',\n",
        "                      password='",
        "                      database='blogdb',\n",
        "                      charset='utf8',\n",
        "                      port=3306)\n",
        "cursor =blogdb.cursor(pymysql.cursors.DictCursor)\n",
        "\n",
        "\n",
        "# 데이터불러오기\n",
        "query2 = \"SELECT post_date FROM post_data where ad_status='NON-AD' and map=1 and res_id <1\"\n",
        "cursor.execute(query2)\n",
        "result2 = cursor.fetchall()"
      ],
      "metadata": {
        "id": "R-5EaPaIXV-g"
      },
      "execution_count": 1,
      "outputs": []
    },
    {
      "cell_type": "code",
      "source": [
        "type(result2)"
      ],
      "metadata": {
        "colab": {
          "base_uri": "https://localhost:8080/"
        },
        "id": "oY_Sfh-jcOFY",
        "outputId": "c25bc557-306c-4453-ff46-3cc11ac92751"
      },
      "execution_count": 3,
      "outputs": [
        {
          "output_type": "execute_result",
          "data": {
            "text/plain": [
              "tuple"
            ]
          },
          "metadata": {},
          "execution_count": 3
        }
      ]
    }
  ]
}
