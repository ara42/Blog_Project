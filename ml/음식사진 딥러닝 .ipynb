{
 "cells": [
  {
   "cell_type": "code",
   "execution_count": 2,
   "id": "54f55c6b",
   "metadata": {},
   "outputs": [
    {
     "name": "stdout",
     "output_type": "stream",
     "text": [
      "Found 2268 images belonging to 2 classes.\n",
      "Found 567 images belonging to 2 classes.\n",
      "Epoch 1/20\n",
      "71/71 [==============================] - 107s 1s/step - loss: 0.4578 - accuracy: 0.8302 - val_loss: 0.2704 - val_accuracy: 0.9065\n",
      "Epoch 2/20\n",
      "71/71 [==============================] - 120s 2s/step - loss: 0.2646 - accuracy: 0.8915 - val_loss: 0.2368 - val_accuracy: 0.8977\n",
      "Epoch 3/20\n",
      "71/71 [==============================] - 132s 2s/step - loss: 0.1739 - accuracy: 0.9321 - val_loss: 0.1230 - val_accuracy: 0.9559\n",
      "Epoch 4/20\n",
      "71/71 [==============================] - 130s 2s/step - loss: 0.1064 - accuracy: 0.9603 - val_loss: 0.1644 - val_accuracy: 0.9312\n",
      "Epoch 5/20\n",
      "71/71 [==============================] - 136s 2s/step - loss: 0.0539 - accuracy: 0.9824 - val_loss: 0.1321 - val_accuracy: 0.9612\n",
      "Epoch 6/20\n",
      "71/71 [==============================] - 133s 2s/step - loss: 0.1149 - accuracy: 0.9590 - val_loss: 0.1487 - val_accuracy: 0.9453\n",
      "1/1 [==============================] - 0s 161ms/step\n",
      "This is not a food image.\n"
     ]
    }
   ],
   "source": [
    "import tensorflow as tf\n",
    "from tensorflow.keras.preprocessing.image import ImageDataGenerator\n",
    "from tensorflow.keras.models import Sequential\n",
    "from tensorflow.keras.layers import Conv2D, MaxPooling2D, Flatten, Dense, Dropout\n",
    "from tensorflow.keras.callbacks import EarlyStopping\n",
    "\n",
    "# 데이터 불러오기\n",
    "train_datagen = ImageDataGenerator(rescale=1./255, validation_split=0.2)\n",
    "\n",
    "train_generator = train_datagen.flow_from_directory(\n",
    "    'foodornot',\n",
    "    target_size=(224, 224),\n",
    "    batch_size=32,\n",
    "    class_mode='binary',  # 이진 분류 (음식, 음식이 아님)\n",
    "    subset='training'\n",
    ")\n",
    "\n",
    "validation_generator = train_datagen.flow_from_directory(\n",
    "    'foodornot',\n",
    "    target_size=(224, 224),\n",
    "    batch_size=32,\n",
    "    class_mode='binary',  # 이진 분류 (음식, 음식이 아님)\n",
    "    subset='validation'\n",
    ")\n",
    "\n",
    "# 모델 아키텍처 정의\n",
    "model = Sequential([\n",
    "    Conv2D(32, (3, 3), activation='relu', input_shape=(224, 224, 3)),\n",
    "    MaxPooling2D(2, 2),\n",
    "    Conv2D(64, (3, 3), activation='relu'),\n",
    "    MaxPooling2D(2, 2),\n",
    "    Conv2D(128, (3, 3), activation='relu'),\n",
    "    MaxPooling2D(2, 2),\n",
    "    Flatten(),\n",
    "    Dense(512, activation='relu'),\n",
    "    Dropout(0.5),\n",
    "    Dense(1, activation='sigmoid')\n",
    "])\n",
    "\n",
    "# 모델 컴파일\n",
    "model.compile(optimizer='adam', loss='binary_crossentropy', metrics=['accuracy'])\n",
    "\n",
    "# Early Stopping 콜백 정의\n",
    "early_stopping = EarlyStopping(monitor='val_loss', patience=3, restore_best_weights=True)\n",
    "\n",
    "# 모델 학습\n",
    "history = model.fit(train_generator, validation_data=validation_generator, epochs=20, callbacks=[early_stopping])\n",
    "\n",
    "# 새로운 이미지 예측\n",
    "new_image_path = 'de.jpg'\n",
    "new_image = tf.keras.preprocessing.image.load_img(new_image_path, target_size=(224, 224))\n",
    "new_image = tf.keras.preprocessing.image.img_to_array(new_image)\n",
    "new_image = new_image / 255.0\n",
    "new_image = tf.expand_dims(new_image, axis=0)\n",
    "\n",
    "prediction = model.predict(new_image)\n",
    "if prediction[0] < 0.5:\n",
    "    print('This is a food image.')\n",
    "else:\n",
    "    print('This is not a food image.')"
   ]
  },
  {
   "cell_type": "code",
   "execution_count": null,
   "id": "33f6db6d",
   "metadata": {},
   "outputs": [],
   "source": [
    "# 저장된 가중치 불러오기\n",
    "#model.load_weights(\"model_foodornot/weights.h5\")"
   ]
  },
  {
   "cell_type": "code",
   "execution_count": null,
   "id": "10e4fce7",
   "metadata": {},
   "outputs": [],
   "source": [
    "# 디렉토리 생성\n",
    "#if not os.path.exists(\"model_foodornot\"):\n",
    "#    os.makedirs(\"model_foodornot\")\n",
    "\n",
    "# 모델 가중치 저장\n",
    "#model.save_weights(\"model_foodornot/weights.h5\")"
   ]
  },
  {
   "cell_type": "code",
   "execution_count": 3,
   "id": "3fea5225",
   "metadata": {},
   "outputs": [
    {
     "name": "stdout",
     "output_type": "stream",
     "text": [
      "1/1 [==============================] - 0s 66ms/step\n",
      "This is a food image.\n"
     ]
    }
   ],
   "source": [
    "# 새로운 이미지 예측\n",
    "new_image_path = 'tf3.jpg'\n",
    "new_image = tf.keras.preprocessing.image.load_img(new_image_path, target_size=(224, 224))\n",
    "new_image = tf.keras.preprocessing.image.img_to_array(new_image)\n",
    "new_image = new_image / 255.0\n",
    "new_image = tf.expand_dims(new_image, axis=0)\n",
    "\n",
    "prediction = model.predict(new_image)\n",
    "if prediction[0] < 0.5:\n",
    "    print('This is a food image.')\n",
    "else:\n",
    "    print('This is not a food image.')"
   ]
  },
  {
   "cell_type": "code",
   "execution_count": 4,
   "id": "a14206d6",
   "metadata": {},
   "outputs": [
    {
     "name": "stdout",
     "output_type": "stream",
     "text": [
      "1/1 [==============================] - 0s 60ms/step\n",
      "This is not a food image.\n"
     ]
    }
   ],
   "source": [
    "# 새로운 이미지 예측\n",
    "new_image_path = 'de.jpg'\n",
    "new_image = tf.keras.preprocessing.image.load_img(new_image_path, target_size=(224, 224))\n",
    "new_image = tf.keras.preprocessing.image.img_to_array(new_image)\n",
    "new_image = new_image / 255.0\n",
    "new_image = tf.expand_dims(new_image, axis=0)\n",
    "\n",
    "prediction = model.predict(new_image)\n",
    "if prediction[0] < 0.5:\n",
    "    print('This is a food image.')\n",
    "else:\n",
    "    print('This is not a food image.')"
   ]
  }
 ],
 "metadata": {
  "kernelspec": {
   "display_name": "Python 3 (ipykernel)",
   "language": "python",
   "name": "python3"
  },
  "language_info": {
   "codemirror_mode": {
    "name": "ipython",
    "version": 3
   },
   "file_extension": ".py",
   "mimetype": "text/x-python",
   "name": "python",
   "nbconvert_exporter": "python",
   "pygments_lexer": "ipython3",
   "version": "3.10.9"
  }
 },
 "nbformat": 4,
 "nbformat_minor": 5
}
