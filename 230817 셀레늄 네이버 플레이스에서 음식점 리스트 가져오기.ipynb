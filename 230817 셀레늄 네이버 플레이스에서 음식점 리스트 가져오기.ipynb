{
 "cells": [
  {
   "cell_type": "code",
   "execution_count": 1,
   "id": "d1b829c5",
   "metadata": {},
   "outputs": [],
   "source": [
    "from selenium import webdriver\n",
    "from selenium.webdriver.common.by import By\n",
    "from selenium.webdriver.common.keys import Keys\n",
    "from bs4 import BeautifulSoup\n",
    "import time\n",
    "from selenium.common.exceptions import NoSuchElementException \n",
    "import pandas as pd\n",
    "import pymysql"
   ]
  },
  {
   "cell_type": "code",
   "execution_count": 2,
   "id": "7d6b7b16",
   "metadata": {},
   "outputs": [],
   "source": [
    "def N_Place_lists(query):\n",
    "    options = webdriver.ChromeOptions()\n",
    "    #options.add_argument('headless')\n",
    "    options.add_argument('window-size=1920x1080')\n",
    "    options.add_argument(\"disable-gpu\")\n",
    "    \n",
    "    driver = webdriver.Chrome('C:\\chromedriver_win32\\chromedriver.exe', options=options)\n",
    "    driver.get(f'https://m.place.naver.com/place/list?query={query}&level=top')\n",
    "    time.sleep(2) \n",
    "    \n",
    "    driver.find_element(By.XPATH, '//*[@id=\"_list_scroll_container\"]/div/div/div[1]/div/div/a[2]').click()\n",
    "    driver.find_element(By.XPATH, '//*[@id=\"_list_scroll_container\"]/div/div/div[1]/div/div/a[1]').click()\n",
    "    time.sleep(2) \n",
    "    \n",
    "\n",
    "    for scroll in range(0,400):\n",
    "        driver.find_element(By.TAG_NAME, 'body').send_keys(Keys.PAGE_DOWN)\n",
    "        time.sleep(0.4)\n",
    "   \n",
    "    \n",
    "    html = driver.page_source\n",
    "    bs = BeautifulSoup(html, 'html.parser')\n",
    "    soup = bs.select_one('div.YluNG')\n",
    "    naver_info = soup.select('li.VLTHu')\n",
    "    \n",
    "    store_names = []\n",
    "    categories = []\n",
    "    links = []\n",
    "    address=[]\n",
    "    \n",
    "    for info in naver_info:\n",
    "        try:\n",
    "            store_name = info.select_one('span.place_bluelink.YwYLL').text\n",
    "            category = info.select_one('span.YzBgS').text\n",
    "            link = info.select_one('div.ouxiq.icT4K').select_one('a').attrs['href']\n",
    "            addr=info.select_one\n",
    "            \n",
    "    \n",
    "            store_names.append(store_name)\n",
    "            categories.append(category)\n",
    "            links.append(link)\n",
    "    \n",
    "        except:\n",
    "            pass\n",
    "    \n",
    "    #driver.quit()\n",
    "    \n",
    "    return store_names, categories, links"
   ]
  },
  {
   "cell_type": "code",
   "execution_count": 3,
   "id": "cb9e1787",
   "metadata": {},
   "outputs": [
    {
     "name": "stderr",
     "output_type": "stream",
     "text": [
      "<ipython-input-2-f3b4d7074552>:7: DeprecationWarning: executable_path has been deprecated, please pass in a Service object\n",
      "  driver = webdriver.Chrome('C:\\chromedriver_win32\\chromedriver.exe', options=options)\n"
     ]
    },
    {
     "ename": "AttributeError",
     "evalue": "'NoneType' object has no attribute 'click'",
     "output_type": "error",
     "traceback": [
      "\u001b[1;31m---------------------------------------------------------------------------\u001b[0m",
      "\u001b[1;31mAttributeError\u001b[0m                            Traceback (most recent call last)",
      "\u001b[1;32m<ipython-input-3-780a88ad66e3>\u001b[0m in \u001b[0;36m<module>\u001b[1;34m\u001b[0m\n\u001b[1;32m----> 1\u001b[1;33m \u001b[0maa\u001b[0m\u001b[1;33m=\u001b[0m\u001b[0mN_Place_lists\u001b[0m\u001b[1;33m(\u001b[0m\u001b[1;34m'종로 맛집'\u001b[0m\u001b[1;33m)\u001b[0m\u001b[1;33m\u001b[0m\u001b[1;33m\u001b[0m\u001b[0m\n\u001b[0m",
      "\u001b[1;32m<ipython-input-2-f3b4d7074552>\u001b[0m in \u001b[0;36mN_Place_lists\u001b[1;34m(query)\u001b[0m\n\u001b[0;32m      9\u001b[0m     \u001b[0mtime\u001b[0m\u001b[1;33m.\u001b[0m\u001b[0msleep\u001b[0m\u001b[1;33m(\u001b[0m\u001b[1;36m2\u001b[0m\u001b[1;33m)\u001b[0m\u001b[1;33m\u001b[0m\u001b[1;33m\u001b[0m\u001b[0m\n\u001b[0;32m     10\u001b[0m \u001b[1;33m\u001b[0m\u001b[0m\n\u001b[1;32m---> 11\u001b[1;33m     \u001b[0mdriver\u001b[0m\u001b[1;33m.\u001b[0m\u001b[0mfind_element\u001b[0m\u001b[1;33m(\u001b[0m\u001b[0mBy\u001b[0m\u001b[1;33m.\u001b[0m\u001b[0mXPATH\u001b[0m\u001b[1;33m,\u001b[0m \u001b[1;34m'//*[@id=\"_list_scroll_container\"]/div/div/div[1]/div/div/a[2]'\u001b[0m\u001b[1;33m)\u001b[0m\u001b[1;33m.\u001b[0m\u001b[0mclick\u001b[0m\u001b[1;33m(\u001b[0m\u001b[1;33m)\u001b[0m\u001b[1;33m\u001b[0m\u001b[1;33m\u001b[0m\u001b[0m\n\u001b[0m\u001b[0;32m     12\u001b[0m     \u001b[0mdriver\u001b[0m\u001b[1;33m.\u001b[0m\u001b[0mfind_element\u001b[0m\u001b[1;33m(\u001b[0m\u001b[0mBy\u001b[0m\u001b[1;33m.\u001b[0m\u001b[0mXPATH\u001b[0m\u001b[1;33m,\u001b[0m \u001b[1;34m'//*[@id=\"_list_scroll_container\"]/div/div/div[1]/div/div/a[1]'\u001b[0m\u001b[1;33m)\u001b[0m\u001b[1;33m.\u001b[0m\u001b[0mclick\u001b[0m\u001b[1;33m(\u001b[0m\u001b[1;33m)\u001b[0m\u001b[1;33m\u001b[0m\u001b[1;33m\u001b[0m\u001b[0m\n\u001b[0;32m     13\u001b[0m     \u001b[0mtime\u001b[0m\u001b[1;33m.\u001b[0m\u001b[0msleep\u001b[0m\u001b[1;33m(\u001b[0m\u001b[1;36m2\u001b[0m\u001b[1;33m)\u001b[0m\u001b[1;33m\u001b[0m\u001b[1;33m\u001b[0m\u001b[0m\n",
      "\u001b[1;31mAttributeError\u001b[0m: 'NoneType' object has no attribute 'click'"
     ]
    }
   ],
   "source": [
    "aa=N_Place_lists('종로 맛집')"
   ]
  },
  {
   "cell_type": "code",
   "execution_count": 172,
   "id": "57618fdb",
   "metadata": {},
   "outputs": [
    {
     "data": {
      "text/plain": [
       "998"
      ]
     },
     "execution_count": 172,
     "metadata": {},
     "output_type": "execute_result"
    }
   ],
   "source": [
    "len(aa[0])"
   ]
  },
  {
   "cell_type": "code",
   "execution_count": 173,
   "id": "25a11d44",
   "metadata": {},
   "outputs": [],
   "source": [
    "dis='종로 맛집'\n",
    "district =[] # 빈 리스트 생성\n",
    " \n",
    "for i in range(len(aa[0])):\n",
    "    district.append(dis)  # append로 요소 추가"
   ]
  },
  {
   "cell_type": "code",
   "execution_count": 177,
   "id": "f6837fe2",
   "metadata": {},
   "outputs": [],
   "source": [
    "name=aa[0]\n",
    "category=aa[1]\n",
    "url=aa[2]"
   ]
  },
  {
   "cell_type": "code",
   "execution_count": 178,
   "id": "6af7add0",
   "metadata": {},
   "outputs": [
    {
     "data": {
      "text/html": [
       "<div>\n",
       "<style scoped>\n",
       "    .dataframe tbody tr th:only-of-type {\n",
       "        vertical-align: middle;\n",
       "    }\n",
       "\n",
       "    .dataframe tbody tr th {\n",
       "        vertical-align: top;\n",
       "    }\n",
       "\n",
       "    .dataframe thead th {\n",
       "        text-align: right;\n",
       "    }\n",
       "</style>\n",
       "<table border=\"1\" class=\"dataframe\">\n",
       "  <thead>\n",
       "    <tr style=\"text-align: right;\">\n",
       "      <th></th>\n",
       "      <th>district</th>\n",
       "      <th>name</th>\n",
       "      <th>url</th>\n",
       "      <th>category</th>\n",
       "    </tr>\n",
       "  </thead>\n",
       "  <tbody>\n",
       "    <tr>\n",
       "      <th>0</th>\n",
       "      <td>종로 맛집</td>\n",
       "      <td>새겹식당</td>\n",
       "      <td>https://tivan.naver.com/d/2zFE2p1y3Mf9pdTD-fi6...</td>\n",
       "      <td>돼지고기구이</td>\n",
       "    </tr>\n",
       "    <tr>\n",
       "      <th>1</th>\n",
       "      <td>종로 맛집</td>\n",
       "      <td>누공삼</td>\n",
       "      <td>https://tivan.naver.com/d/5ooufLpJPqmGCg2B358Y...</td>\n",
       "      <td>카페,디저트</td>\n",
       "    </tr>\n",
       "    <tr>\n",
       "      <th>2</th>\n",
       "      <td>종로 맛집</td>\n",
       "      <td>차알 광화문 디타워점</td>\n",
       "      <td>https://m.place.naver.com/place/37256672?entry...</td>\n",
       "      <td>중식당</td>\n",
       "    </tr>\n",
       "    <tr>\n",
       "      <th>3</th>\n",
       "      <td>종로 맛집</td>\n",
       "      <td>익선디미방</td>\n",
       "      <td>https://m.place.naver.com/place/1021505576?ent...</td>\n",
       "      <td>양식</td>\n",
       "    </tr>\n",
       "    <tr>\n",
       "      <th>4</th>\n",
       "      <td>종로 맛집</td>\n",
       "      <td>육랩 종로점</td>\n",
       "      <td>https://m.place.naver.com/place/1450644151?ent...</td>\n",
       "      <td>한식</td>\n",
       "    </tr>\n",
       "    <tr>\n",
       "      <th>...</th>\n",
       "      <td>...</td>\n",
       "      <td>...</td>\n",
       "      <td>...</td>\n",
       "      <td>...</td>\n",
       "    </tr>\n",
       "    <tr>\n",
       "      <th>993</th>\n",
       "      <td>종로 맛집</td>\n",
       "      <td>크리에잇쿠키 광화문sfc몰점</td>\n",
       "      <td>https://m.place.naver.com/place/1461508698?ent...</td>\n",
       "      <td>카페</td>\n",
       "    </tr>\n",
       "    <tr>\n",
       "      <th>994</th>\n",
       "      <td>종로 맛집</td>\n",
       "      <td>본고향맛집 을지로4가점</td>\n",
       "      <td>https://m.place.naver.com/place/36699877?entry...</td>\n",
       "      <td>육류,고기요리</td>\n",
       "    </tr>\n",
       "    <tr>\n",
       "      <th>995</th>\n",
       "      <td>종로 맛집</td>\n",
       "      <td>장수삼계탕</td>\n",
       "      <td>https://m.place.naver.com/place/17924476?entry...</td>\n",
       "      <td>백숙,삼계탕</td>\n",
       "    </tr>\n",
       "    <tr>\n",
       "      <th>996</th>\n",
       "      <td>종로 맛집</td>\n",
       "      <td>스시키마에</td>\n",
       "      <td>https://m.place.naver.com/place/1909859567?ent...</td>\n",
       "      <td>일식당</td>\n",
       "    </tr>\n",
       "    <tr>\n",
       "      <th>997</th>\n",
       "      <td>종로 맛집</td>\n",
       "      <td>야래향</td>\n",
       "      <td>https://m.place.naver.com/place/17947024?entry...</td>\n",
       "      <td>중식당</td>\n",
       "    </tr>\n",
       "  </tbody>\n",
       "</table>\n",
       "<p>998 rows × 4 columns</p>\n",
       "</div>"
      ],
      "text/plain": [
       "    district             name  \\\n",
       "0      종로 맛집             새겹식당   \n",
       "1      종로 맛집              누공삼   \n",
       "2      종로 맛집      차알 광화문 디타워점   \n",
       "3      종로 맛집            익선디미방   \n",
       "4      종로 맛집           육랩 종로점   \n",
       "..       ...              ...   \n",
       "993    종로 맛집  크리에잇쿠키 광화문sfc몰점   \n",
       "994    종로 맛집     본고향맛집 을지로4가점   \n",
       "995    종로 맛집            장수삼계탕   \n",
       "996    종로 맛집            스시키마에   \n",
       "997    종로 맛집              야래향   \n",
       "\n",
       "                                                   url category  \n",
       "0    https://tivan.naver.com/d/2zFE2p1y3Mf9pdTD-fi6...   돼지고기구이  \n",
       "1    https://tivan.naver.com/d/5ooufLpJPqmGCg2B358Y...   카페,디저트  \n",
       "2    https://m.place.naver.com/place/37256672?entry...      중식당  \n",
       "3    https://m.place.naver.com/place/1021505576?ent...       양식  \n",
       "4    https://m.place.naver.com/place/1450644151?ent...       한식  \n",
       "..                                                 ...      ...  \n",
       "993  https://m.place.naver.com/place/1461508698?ent...       카페  \n",
       "994  https://m.place.naver.com/place/36699877?entry...  육류,고기요리  \n",
       "995  https://m.place.naver.com/place/17924476?entry...   백숙,삼계탕  \n",
       "996  https://m.place.naver.com/place/1909859567?ent...      일식당  \n",
       "997  https://m.place.naver.com/place/17947024?entry...      중식당  \n",
       "\n",
       "[998 rows x 4 columns]"
      ]
     },
     "execution_count": 178,
     "metadata": {},
     "output_type": "execute_result"
    }
   ],
   "source": [
    "df = pd.DataFrame({\"district\":district, \"name\":aa[0], \"url\":aa[2], \"category\":aa[1]})\n",
    "df"
   ]
  },
  {
   "cell_type": "code",
   "execution_count": 180,
   "id": "3ede0e8e",
   "metadata": {},
   "outputs": [],
   "source": [
    "conn = pymysql.connect(host='',\n",
    "                      user='admin',\n",
    "                      password='',\n",
    "                      database='',\n",
    "                      port=3306)\n",
    "curs=conn.cursor()"
   ]
  },
  {
   "cell_type": "code",
   "execution_count": null,
   "id": "bcefa94d",
   "metadata": {},
   "outputs": [],
   "source": [
    "data_to_insert = []\n",
    "for i in range(len(df)):\n",
    "    data_to_insert.append((district[i], name[i], url[i], category[i]))\n",
    "\n",
    "insert_sql = 'INSERT INTO restaurants (district, name, url, category) VALUES (%s, %s, %s, %s);'\n",
    "\n",
    "curs.executemany(insert_sql, data_to_insert)\n",
    "conn.commit()"
   ]
  },
  {
   "cell_type": "code",
   "execution_count": null,
   "id": "805652e6",
   "metadata": {},
   "outputs": [],
   "source": []
  },
  {
   "cell_type": "code",
   "execution_count": 158,
   "id": "9b9e4db1",
   "metadata": {},
   "outputs": [],
   "source": [
    "query=\"SELECT * FROM restaurants\"\n",
    "\n",
    "curs.execute(query)\n",
    "\n",
    "# Fetch all the rows\n",
    "rows = curs.fetchall()\n"
   ]
  },
  {
   "cell_type": "code",
   "execution_count": 161,
   "id": "137a2bfa",
   "metadata": {},
   "outputs": [
    {
     "data": {
      "text/plain": [
       "998"
      ]
     },
     "execution_count": 161,
     "metadata": {},
     "output_type": "execute_result"
    }
   ],
   "source": [
    "len(rows)"
   ]
  },
  {
   "cell_type": "code",
   "execution_count": null,
   "id": "56670945",
   "metadata": {},
   "outputs": [],
   "source": []
  },
  {
   "cell_type": "code",
   "execution_count": null,
   "id": "5e616222",
   "metadata": {},
   "outputs": [],
   "source": []
  },
  {
   "cell_type": "code",
   "execution_count": null,
   "id": "07018d9b",
   "metadata": {},
   "outputs": [],
   "source": []
  },
  {
   "cell_type": "code",
   "execution_count": null,
   "id": "b8e1e09a",
   "metadata": {},
   "outputs": [],
   "source": []
  }
 ],
 "metadata": {
  "kernelspec": {
   "display_name": "Python 3",
   "language": "python",
   "name": "python3"
  },
  "language_info": {
   "codemirror_mode": {
    "name": "ipython",
    "version": 3
   },
   "file_extension": ".py",
   "mimetype": "text/x-python",
   "name": "python",
   "nbconvert_exporter": "python",
   "pygments_lexer": "ipython3",
   "version": "3.8.8"
  }
 },
 "nbformat": 4,
 "nbformat_minor": 5
}
